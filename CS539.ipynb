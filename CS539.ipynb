{
  "nbformat": 4,
  "nbformat_minor": 0,
  "metadata": {
    "colab": {
      "provenance": [],
      "collapsed_sections": [
        "0Zngco66Uz8L",
        "aAfU0O89udHQ"
      ],
      "authorship_tag": "ABX9TyMqGVl8G2pvdfhjfjX2zbbf",
      "include_colab_link": true
    },
    "kernelspec": {
      "name": "python3",
      "display_name": "Python 3"
    },
    "language_info": {
      "name": "python"
    }
  },
  "cells": [
    {
      "cell_type": "markdown",
      "metadata": {
        "id": "view-in-github",
        "colab_type": "text"
      },
      "source": [
        "<a href=\"https://colab.research.google.com/github/JiaheLing/Notes/blob/main/CS539.ipynb\" target=\"_parent\"><img src=\"https://colab.research.google.com/assets/colab-badge.svg\" alt=\"Open In Colab\"/></a>"
      ]
    },
    {
      "cell_type": "markdown",
      "source": [
        "### **Deep Learning Introduction** ###"
      ],
      "metadata": {
        "id": "0Zngco66Uz8L"
      }
    },
    {
      "cell_type": "markdown",
      "source": [
        "1. What is Deep Learning?\n",
        "  - A deep neural network is nothing more than a neural network with many layers.\n",
        "  - Deep learning provides an eﬃcient means to train deep neural networks.\n",
        "\n",
        "2. Application of Deep Learning\n",
        " - CV: Computer Vision\n",
        " - NLP: Natural Language Processing\n",
        " - Reinforcement Learning: trains a neural network to choose ongoing actions so that the algorithm rewards the neural network for optimally completing a task\n",
        " - Time Series\n",
        " - Generative Models\n",
        "\n",
        "3. Why NOT Deep Learning?\n",
        " - Even though neural networks can perform both classiﬁcation and regression, deep neural networks do not necessarily add signiﬁcant accuracy dealing with low-dimension tabular data tasks. (deep learning may need more computation time)\n",
        "\n",
        "4. Why Deep Learning?\n",
        " - Most state-of-the-art solutions depend on deep neural networks for images, video, text, and audio data.\n",
        "\n",
        "5. Python for Deep Learning\n",
        " - TensorFlow (Google)\n",
        " - PyTorch (Facebook)\n",
        " "
      ],
      "metadata": {
        "id": "h2O0qWbim8La"
      }
    },
    {
      "cell_type": "code",
      "source": [
        "import tensorflow as tf\n",
        "import pandas as pd"
      ],
      "metadata": {
        "id": "DTwCLdVCuIDb"
      },
      "execution_count": null,
      "outputs": []
    },
    {
      "cell_type": "markdown",
      "source": [
        "###**Introduction to Python**###"
      ],
      "metadata": {
        "id": "aAfU0O89udHQ"
      }
    },
    {
      "cell_type": "markdown",
      "source": [
        "0. Basic Operators\n",
        "1. Printing\n",
        "2. If-else\n",
        "3. Loop\n",
        "4. Lists, Dictionaries, Sets\n",
        "5. JSON\n",
        "6. File Handling\n",
        "7. Functions\n",
        "8. Lambdas, Map, Reduce"
      ],
      "metadata": {
        "id": "PXM9aJuinKyT"
      }
    },
    {
      "cell_type": "markdown",
      "source": [
        "***Basic Operators***\n",
        "\n",
        "**Commonly used Arithmetic Operators in Python:**\n",
        "- Addition `x + y`\n",
        "- Subtraction\t`x - y`\t\n",
        "- Multiplication `x * y`\t\n",
        "- Division `x / y`\n",
        "- Modulus `x % y`\n",
        "- Exponentiation `x ** y`\t\n",
        "- Floor division `x // y`\n",
        "\n",
        "**Commonly used Bitwise Operators in Python:**\n",
        "- `&` AND [Sets each bit to 1 if both bits are 1]\n",
        "- `|` OR [Sets each bit to 1 if one of two bits is 1]\n",
        "- `^` XOR [Sets each bit to 1 if only one of two bits is 1]\n",
        "- `~` NOT [Inverts all the bits]\n",
        "- `<<` [Zero fill left shift\tShift left by pushing zeros in from the right and let the leftmost bits fall off]\n",
        "- `>>` [Signed right shift\tShift right by pushing copies of the leftmost bit in from the left, and let the rightmost bits fall off]"
      ],
      "metadata": {
        "id": "OPZ3Z7R0bPpI"
      }
    },
    {
      "cell_type": "markdown",
      "source": [
        "***Printing***"
      ],
      "metadata": {
        "id": "C4NnEL6WWZzB"
      }
    },
    {
      "cell_type": "code",
      "source": [
        "# Basic Printing (2)\n",
        "print(\"Hello World\")\n",
        "print('Hello World') \n",
        "# there is no diﬀerence between single and double quotes\n",
        "\n",
        "# Printing with New Line (2)\n",
        "print(\"First Line\\nSecond Line\\nThird Line\") # newline char\n",
        "print(\"\"\"1st Line\n",
        "2nd Line\n",
        "3rd Line\"\"\") # triple quote\n",
        "\n",
        "# Printing Variables\n",
        "a = 10\n",
        "print(a)\n",
        "\n",
        "# Mix Strings and Variables for Printing\n",
        "print(f'The value of a is {a}')\n",
        "print(f'The value of a*a is {a*a}')"
      ],
      "metadata": {
        "colab": {
          "base_uri": "https://localhost:8080/"
        },
        "id": "pHURdLbyUszM",
        "outputId": "1dcc7d85-c0bc-44cf-e907-3ddefb9ca94b"
      },
      "execution_count": null,
      "outputs": [
        {
          "output_type": "stream",
          "name": "stdout",
          "text": [
            "Hello World\n",
            "Hello World\n",
            "First Line\n",
            "Second Line\n",
            "Third Line\n",
            "1st Line\n",
            "2nd Line\n",
            "3rd Line\n",
            "10\n",
            "The value of a is 10\n",
            "The value of a*a is 100\n"
          ]
        }
      ]
    },
    {
      "cell_type": "markdown",
      "source": [
        "***If-Else***\n",
        "\n",
        "Unlike many other programming languages, Python uses whitespace to deﬁne blocks of code.\n",
        "\n",
        "A block usually begins after a colon and includes any lines at the same level of indent."
      ],
      "metadata": {
        "id": "B25uac8hX4l_"
      }
    },
    {
      "cell_type": "code",
      "source": [
        "# Basic\n",
        "a = 1\n",
        "if a > 0:\n",
        "  print('The given variable is a positive number.')\n",
        "else:\n",
        "  print('The given variable could be 0 or negative.')\n",
        "\n",
        "# Multi-levels: Consider as 'if in if'\n",
        "a = 110\n",
        "if a > 0:\n",
        "  if a > 100:\n",
        "    print('The given variable is a very large positive number.')\n",
        "  else:\n",
        "    print('The given variable is a positive number.')\n",
        "else:\n",
        "  print('The given variable could be 0 or negative.')\n",
        "\n",
        "# Else-If: Consider as parallel 'if'\n",
        "a = -1\n",
        "if a > 0:\n",
        "  print('The given variable is a positive number.')\n",
        "elif a == 0:\n",
        "  print('The given variable is 0.')\n",
        "else:\n",
        "    print('The given variable is negative.')"
      ],
      "metadata": {
        "colab": {
          "base_uri": "https://localhost:8080/"
        },
        "id": "yNmfuRugX81D",
        "outputId": "cc914d53-04ad-4eb5-e107-250a94a032f1"
      },
      "execution_count": null,
      "outputs": [
        {
          "output_type": "stream",
          "name": "stdout",
          "text": [
            "The given variable is a positive number.\n",
            "The given variable is a very large positive number.\n",
            "The given variable is negative.\n"
          ]
        }
      ]
    },
    {
      "cell_type": "markdown",
      "source": [
        "**Commonly used Comparison Operator in Python:**\n",
        "- Equal `x == y`\n",
        "- Not equal `x != y`\n",
        "- Greater than `x > y`\n",
        "- Less than\t`x < y`\n",
        "- Greater than or equal to `x >= y`\t\n",
        "- Less than or equal to\t`x <= y`\n",
        "\n",
        "**Commonly used Logic Operator in Python:**\n",
        "- Returns True if both statements are true `x < 5 and x < 10`\n",
        "- Returns True if one of the statements is true\t`x < 5 or x < 4`\n",
        "- Returns False if the result is true\t`not(x < 5)`\n",
        "\n",
        "**Commonly used Identity Operators in Python:**\n",
        "- Returns True if both variables are the same object `x is y`\n",
        "- Returns True if both variables are not the same object `x is not y`"
      ],
      "metadata": {
        "id": "uKRqsbX5Z4iU"
      }
    },
    {
      "cell_type": "markdown",
      "source": [
        "***Loop***\n"
      ],
      "metadata": {
        "id": "fipipGJSZqKR"
      }
    },
    {
      "cell_type": "markdown",
      "source": [
        "**Basic**"
      ],
      "metadata": {
        "id": "9uRtTyjYB2dU"
      }
    },
    {
      "cell_type": "code",
      "source": [
        "# while\n",
        "count = 0\n",
        "while (count < 3):   \n",
        "    count = count + 1\n",
        "    print(f\"count: {count}\")\n",
        "\n",
        "# for\n",
        "n = 4\n",
        "for i in range(0, n):\n",
        "    print(f\"i: {i}\")\n",
        "# for X in ARRAY:\n",
        "#   OPERATION ON X"
      ],
      "metadata": {
        "colab": {
          "base_uri": "https://localhost:8080/"
        },
        "id": "FTw0oJsHZsGf",
        "outputId": "47c4c206-02b7-4297-822f-951765bc311f"
      },
      "execution_count": null,
      "outputs": [
        {
          "output_type": "stream",
          "name": "stdout",
          "text": [
            "count: 1\n",
            "count: 2\n",
            "count: 3\n",
            "i: 0\n",
            "i: 1\n",
            "i: 2\n",
            "i: 3\n"
          ]
        }
      ]
    },
    {
      "cell_type": "markdown",
      "source": [
        "> For can also iterate over: List, Tuple, Dictionary, String\n",
        "\n",
        "**Loop Control**\n",
        "- Continue: Skip to next round\n",
        "```\n",
        "for letter in 'ling':\n",
        "    if letter == 'n':\n",
        "         continue\n",
        "    print ('Letter :', letter)\n",
        "\n",
        " Output: lig\n",
        "```\n",
        "- Break: Stop the loop\n",
        "```\n",
        "for letter in 'ling':\n",
        "    if letter == 'n':\n",
        "         continue\n",
        "    print ('Letter :', letter)\n",
        "\n",
        " Output: li\n",
        "```"
      ],
      "metadata": {
        "id": "RQE7_g1-h9sI"
      }
    },
    {
      "cell_type": "markdown",
      "source": [
        "***Lists, Dictionaries, Sets***\n",
        "\n"
      ],
      "metadata": {
        "id": "oUe4S76sh10w"
      }
    },
    {
      "cell_type": "markdown",
      "source": [
        "- Dictionary: A dictionary is a mutable **unordered** collection that Python indexes with **name and value pairs**.\n",
        "\n",
        "- List: A list is a mutable **ordered** collection that allows **duplicate elements**.\n",
        "\n",
        "- Set: A set is a mutable **unordered** collection with **no duplicate elements**.\n",
        "\n",
        "- Tuple - A tuple is an **immutable** **ordered** collection that allows **duplicate elements**.\n",
        "\n",
        "> {List, Set, `Tuple`} -> Mutable -> {List, Set} -> Duplicate Allowed -> {List}\n"
      ],
      "metadata": {
        "id": "Cf_gPiM-laC8"
      }
    },
    {
      "cell_type": "markdown",
      "source": [
        "**List**\n",
        "\n",
        "1. Creation/Definition\n",
        "```\n",
        "# Normal List\n",
        "l_1 = [1, 2, 4, 5]\n",
        "# List in List\n",
        "l_2 = [[1,2], [2,3], 5]\n",
        "```\n",
        "\n",
        "2. Access Element\n",
        "```\n",
        "# 1st element's index = 0\n",
        "l_1[1] # 2\n",
        "l_2[1][1] # 3\n",
        "```\n",
        "\n",
        "3. Replace Element\n",
        "```\n",
        "l_1[0] = 0\n",
        "# Then l_1 = [0, 2, 4, 5]\n",
        "```\n",
        "\n",
        "4. Add Element\n",
        "```\n",
        "# For a single value\n",
        "l_1.append(0) # [0, 2, 4, 5, 0]\n",
        "l_1.append([1, 2]) # [0, 2, 4, 5, 0, [1,2]]\n",
        "```\n",
        "```\n",
        "# For a List\n",
        "l.extend(l_1)\n",
        "```\n",
        "\n",
        "5. Insert Element\n",
        "```\n",
        "l_1.insert(5, 1) # [0, 2, 4, 5, 0, 1]\n",
        "```\n",
        "\n",
        "6. Remove Element\n",
        "```\n",
        "# Remove at Index\n",
        "del l_1[0] # [2, 4, 5, 0, 1]\n",
        "```\n",
        "```\n",
        "# Remove 1st Occurence\n",
        "l_1[0].remove # [2, 4, 5, 1]\n",
        "```\n",
        "\n",
        "7. Other Operations\n",
        "- enumerate(list, given_start_index)\n",
        ">Enumerate() method adds a counter to an iterable and returns it in a form of enumerating object. This enumerated object can then be used directly for loops or converted into a list of tuples using the list() method.\n",
        "\n"
      ],
      "metadata": {
        "id": "Rnrb_riEOGre"
      }
    },
    {
      "cell_type": "code",
      "source": [
        "# Basic\n",
        "l_1 = [\"eat\", \"sleep\", \"repeat\"]\n",
        "print(list(enumerate(l1)))\n",
        "\n",
        "# Loop\n",
        "for count, ele in enumerate(l_1, 100):\n",
        "    print (count, ele)"
      ],
      "metadata": {
        "colab": {
          "base_uri": "https://localhost:8080/"
        },
        "id": "1HDO7_KdIcCr",
        "outputId": "b07e8b2c-7b02-4d46-e693-bd4f520cb2a9"
      },
      "execution_count": null,
      "outputs": [
        {
          "output_type": "stream",
          "name": "stdout",
          "text": [
            "[(0, 'eat'), (1, 'sleep'), (2, 'repeat')]\n",
            "100 eat\n",
            "101 sleep\n",
            "102 repeat\n"
          ]
        }
      ]
    },
    {
      "cell_type": "markdown",
      "source": [
        "- sorted()\n",
        "> Returns a new sorted list (NOT modify orginal list) which is sorted by Alphabet/Number in **ascending** order."
      ],
      "metadata": {
        "id": "Q9H5pPeZJSDz"
      }
    },
    {
      "cell_type": "code",
      "source": [
        "l_1 = [\"eat\", \"sleep\", \"repeat\"]\n",
        "print(sorted(l_1))"
      ],
      "metadata": {
        "colab": {
          "base_uri": "https://localhost:8080/"
        },
        "id": "rqOjinyxJrIU",
        "outputId": "7a1102be-6ca8-42c0-9515-048c6c471b21"
      },
      "execution_count": null,
      "outputs": [
        {
          "output_type": "stream",
          "name": "stdout",
          "text": [
            "['eat', 'repeat', 'sleep']\n"
          ]
        }
      ]
    },
    {
      "cell_type": "markdown",
      "source": [
        "- pop(index)\n",
        "> Removes and returns the value at the given index."
      ],
      "metadata": {
        "id": "5azvRs8TJ2pm"
      }
    },
    {
      "cell_type": "code",
      "source": [
        "l_1 = [\"eat\", \"sleep\", \"repeat\"]\n",
        "print(f'{l_1.pop(0)}\\n{l_1}')"
      ],
      "metadata": {
        "colab": {
          "base_uri": "https://localhost:8080/"
        },
        "id": "yYUN_ym7J1gk",
        "outputId": "8f4dac1c-24f8-4b9f-e7ef-9e8b6567a1ad"
      },
      "execution_count": null,
      "outputs": [
        {
          "output_type": "stream",
          "name": "stdout",
          "text": [
            "eat\n",
            "['sleep', 'repeat']\n"
          ]
        },
        {
          "output_type": "execute_result",
          "data": {
            "text/plain": [
              "2"
            ]
          },
          "metadata": {},
          "execution_count": 74
        }
      ]
    },
    {
      "cell_type": "markdown",
      "source": [
        "- sum()\n",
        "> Returns the sum of the values in the list.\n",
        "\n",
        "- len()\n",
        "> Returns the length of the list."
      ],
      "metadata": {
        "id": "OSJGLoJxKNDZ"
      }
    },
    {
      "cell_type": "markdown",
      "source": [
        "**Tuple**\n",
        "\n",
        "1. Creation/Definition\n",
        "```\n",
        "tup = (1, 2, 3)\n",
        "```\n",
        "2. Tuple is IMMUTABLE (any change lead to an error)\n"
      ],
      "metadata": {
        "id": "XXhZHtc-OoNG"
      }
    },
    {
      "cell_type": "markdown",
      "source": [
        "**Set**\n",
        "\n",
        "1. Creation/Definition\n",
        "```\n",
        "s = {'a', 'b', 'c'}\n",
        "s = set(['a', 'b', 'c'])\n",
        "```\n",
        "\n",
        "2. Add (Set + Element)\n",
        "```\n",
        "myset.add(\"d\")\n",
        "```\n",
        "\n",
        "3. Union (Set + Set)\n",
        "```\n",
        "s1 = s1.union(s2) # (1)\n",
        "s1 = s1|s2 # (2)\n",
        "```\n",
        "\n",
        "4. Intersection\n",
        "```\n",
        "s3 = s1.intersection(s2)\n",
        "s3 = s1 & s2\n",
        "```\n",
        "\n",
        "5. Difference\n",
        "```\n",
        "s3 = s1.difference(s2)\n",
        "s3 = s1 - s2\n",
        "```\n",
        "\n",
        "6. Remove (Clearing sets)\n",
        "```\n",
        "s1.clear()\n",
        "```\n",
        "\n",
        "7. Other Operations\n",
        "- Equivalence\n",
        "```\n",
        "s1 == s2\n",
        "```\n",
        "- Subset\n",
        "```\n",
        "s1 <= s2\n",
        "```\n",
        "- Superset\n",
        "```\n",
        "s1 >= s2\n",
        "```\n",
        "- The set of elements in s1 but not s2\n",
        "```\n",
        "s1 – s2\n",
        "```"
      ],
      "metadata": {
        "id": "ufewU4JYOqaA"
      }
    },
    {
      "cell_type": "markdown",
      "source": [
        "**_Maps/Dictionaries/Hash Table_**\n"
      ],
      "metadata": {
        "id": "F5IV4W4pOunm"
      }
    },
    {
      "cell_type": "code",
      "source": [
        "dic = {'name': \"John\", \n",
        "       'address': \"TBD\"}\n",
        "print(dic)\n",
        "print(dic['name'])"
      ],
      "metadata": {
        "colab": {
          "base_uri": "https://localhost:8080/"
        },
        "id": "jHdnTLJtN4CN",
        "outputId": "4599fdbb-cfda-43f2-bf23-38a57395e10e"
      },
      "execution_count": null,
      "outputs": [
        {
          "output_type": "stream",
          "name": "stdout",
          "text": [
            "{'name': 'John', 'address': 'TBD'}\n",
            "John\n"
          ]
        }
      ]
    },
    {
      "cell_type": "markdown",
      "source": [
        "***JSON***"
      ],
      "metadata": {
        "id": "KmA8ILPnOu1Z"
      }
    },
    {
      "cell_type": "markdown",
      "source": [
        "**JSON vs. CSV**\n",
        "\n",
        "- CSV: must be ﬂat (ﬁt into rows and columns), also refered as structured/tabular data.\n",
        "\n",
        "- JSON: a standard ﬁle format that stores data in a hierarchical format, which is is nothing more than a hierarchy of `lists and dictionaries`; refered as semi-structured/hierarchical data.\n",
        "\n",
        "> JSON requires `double-quotes` to enclose strings and names but does NOT allow `single quotes`.\n",
        "\n",
        "> JSON is also generally valid as Python code (you can directly save its content into a variable): \n",
        "```\n",
        "variable = {\"menu\": {\n",
        "  \"id\": \"file\",\n",
        "  \"value\": \"File\",\n",
        "  \"popup\": {\n",
        "    \"menuitem\": [\n",
        "      {\"value\": \"New\", \"onclick\": \"CreateNewDoc()\"},\n",
        "      {\"value\": \"Open\", \"onclick\": \"OpenDoc()\"},\n",
        "      {\"value\": \"Close\", \"onclick\": \"CloseDoc()\"}\n",
        "    ]\n",
        "  }\n",
        "}}\n",
        "```\n",
        "However, it is better to read JSON from ﬁles, strings, or the Internet than hard coding.\n"
      ],
      "metadata": {
        "id": "ypoYpiIvOvAc"
      }
    },
    {
      "cell_type": "markdown",
      "source": [
        "**Read JSON File**"
      ],
      "metadata": {
        "id": "Pia_KPCpd_JN"
      }
    },
    {
      "cell_type": "code",
      "source": [
        "# Reading JSON Files\n",
        "import json\n",
        "\n",
        "# load json string\n",
        "json_string = '{\"first\":\"Jeff\",\"last\":\"Heaton\"}'\n",
        "obj = json . loads ( json_string )\n",
        "print(type(obj)) # dict\n",
        "\n",
        "# load json url\n",
        "import requests\n",
        "r = requests.get (\"https://raw.githubusercontent.com/jeffheaton/\" \n",
        "                  +\"t81_558_deep_learning/master/person.json\")\n",
        "obj = r.json()\n",
        "print(type(obj)) # dict"
      ],
      "metadata": {
        "colab": {
          "base_uri": "https://localhost:8080/"
        },
        "id": "PzYErUV3Q6wu",
        "outputId": "73c4c306-15f2-4341-cbf9-b56f9987bb9a"
      },
      "execution_count": null,
      "outputs": [
        {
          "output_type": "stream",
          "name": "stdout",
          "text": [
            "<class 'dict'>\n",
            "<class 'dict'>\n"
          ]
        }
      ]
    },
    {
      "cell_type": "markdown",
      "source": [
        "***File Handling***"
      ],
      "metadata": {
        "id": "qXruGt9mPSlA"
      }
    },
    {
      "cell_type": "markdown",
      "source": [
        "**CSV Files**\n",
        "\n",
        "- Normal\n",
        "```\n",
        "import pandas as pd\n",
        "df = pd.read_csv(\"---\")\n",
        "```\n",
        "> \"---\" could be either `url` or the `file path`\n",
        "\n",
        "- Large\n",
        "```\n",
        "import csv\n",
        "import urllib.request\n",
        "import codecs\n",
        "import numpy as np\n",
        "```\n",
        "```\n",
        "url = \"XXX\"\n",
        "urlstream = urllib.request.urlopen(url)\n",
        "csvfile = csv.reader(codecs.iterdecode(urlstream,'utf−8'))\n",
        "```\n",
        "```\n",
        "next(csvfile) # skip head row\n",
        "for line in csvfile:\n",
        "    line = np.array(line) # convert each row to numpy array\n",
        "     ...\n",
        "```\n",
        "> Pandas will read the entire CSV ﬁle into memory. Streaming allows you to process this ﬁle one record at a time. Because the program does not load all of the data into memory, you can handle huge ﬁles.\n"
      ],
      "metadata": {
        "id": "gByHwOwhPSqc"
      }
    },
    {
      "cell_type": "markdown",
      "source": [
        "**Text Files**\n",
        "\n",
        "_Open File_ (before Operation)\n",
        "\n",
        "```\n",
        "file1 = open(\"MyFile.txt\",\"X\")\n",
        "```\n",
        "- `X = r` : read only\n",
        "- `X = r+` : read & write\n",
        "- `X = w` : write only\n",
        "- `X = w+` : write & read\n",
        "- `X = a` : append only\n",
        "- `X = a+` : append + read\n",
        "\n",
        "_Close File_ (after Operation)\n",
        "\n",
        "```\n",
        "file1 = close()\n",
        "```\n",
        "\n",
        "_Read_\n",
        "\n",
        "```\n",
        "file1 = open(\"MyFile.txt\",\"a\")\n",
        "file1.read(X)\n",
        "file1.readline(X)\n",
        "file1.readlines()\n",
        "file1.close()\n",
        "```\n",
        "- `read(X)`: Returns the read bytes in form of a string. Reads X bytes, if no X specified, reads the **entire** file.\n",
        "- `readline(X)`: Reads a line of the file and returns in form of a string.For specified X, reads at most X bytes. However, does not reads more than one line, even if X exceeds the length of the line.\n",
        "- readlines(): Reads all the lines and return them as **each line a string element in a list**.\n",
        "\n",
        "_Write_\n",
        "\n",
        "```\n",
        "file1 = open(\"myfile.txt\",\"w\")\n",
        "file1.write(str)\n",
        "file1.writelines(line)\n",
        "file1.close()\n",
        "```\n",
        "- `write(str)`: Inserts the string str in the text file.\n",
        "- `writelines()`: For a **list of string elements L**, each string is inserted in the text file.\n"
      ],
      "metadata": {
        "id": "3u3rRnGwPSxP"
      }
    },
    {
      "cell_type": "markdown",
      "source": [
        "**Image**\n",
        "\n",
        "```\n",
        "from PIL import Image\n",
        "import requests\n",
        "from io import BytesIO\n",
        "```\n",
        "\n",
        "```\n",
        "url = \"---\"\n",
        "resp = requests.get(url)\n",
        "img = Image.open(BytesIO(resp.content))\n",
        "```\n",
        "\n"
      ],
      "metadata": {
        "id": "67GeFPdffy3S"
      }
    },
    {
      "cell_type": "markdown",
      "source": [
        "***Functions***"
      ],
      "metadata": {
        "id": "lsGGN4b3p_w9"
      }
    },
    {
      "cell_type": "markdown",
      "source": [
        "\n",
        "\n",
        "```\n",
        "def func(param1, param2 = \"default\"):\n",
        "    ...\n",
        "    return var # return is optional\n",
        "```\n",
        "\n"
      ],
      "metadata": {
        "id": "Gkj4iG9t6Xi4"
      }
    },
    {
      "cell_type": "code",
      "source": [
        "def plus_one(a):\n",
        "  i = a + 1;\n",
        "  return i;\n",
        "\n",
        "print(f'{plus_one(1)}')"
      ],
      "metadata": {
        "colab": {
          "base_uri": "https://localhost:8080/"
        },
        "id": "uynkavs-6wnN",
        "outputId": "98d5e22a-2081-42bd-a3f5-549860c1788f"
      },
      "execution_count": null,
      "outputs": [
        {
          "output_type": "stream",
          "name": "stdout",
          "text": [
            "2\n"
          ]
        }
      ]
    },
    {
      "cell_type": "markdown",
      "source": [
        "**Map**\n",
        "\n",
        "The map function takes a list and applies a function to each member of the list and returns a second list that is the same size as the ﬁrst."
      ],
      "metadata": {
        "id": "UH2EZ5uxqNVy"
      }
    },
    {
      "cell_type": "code",
      "source": [
        "l = [1, 2, 3, 4]\n",
        "\n",
        "print(type(map(plus_one, l)))\n",
        "print(map(plus_one, l))\n",
        "\n",
        "print(type(list(map(plus_one, l))))\n",
        "print(list(map(plus_one, l)))"
      ],
      "metadata": {
        "colab": {
          "base_uri": "https://localhost:8080/"
        },
        "id": "8TGkrIlkO3jk",
        "outputId": "23ab71ad-c8bb-4b78-e260-8c9a80f99024"
      },
      "execution_count": null,
      "outputs": [
        {
          "output_type": "stream",
          "name": "stdout",
          "text": [
            "<class 'map'>\n",
            "<map object at 0x7f0f5561fad0>\n",
            "<class 'list'>\n",
            "[2, 3, 4, 5]\n"
          ]
        }
      ]
    },
    {
      "cell_type": "markdown",
      "source": [
        "The map function is very similar to the Python **comprehension**."
      ],
      "metadata": {
        "id": "GHMdGdT5904d"
      }
    },
    {
      "cell_type": "code",
      "source": [
        "l_new = [plus_one(x) for x in l]\n",
        "print(l_new)"
      ],
      "metadata": {
        "colab": {
          "base_uri": "https://localhost:8080/"
        },
        "id": "PqbnvMrt965M",
        "outputId": "fe823fa5-772c-42dd-bd66-ff278c6d4de4"
      },
      "execution_count": null,
      "outputs": [
        {
          "output_type": "stream",
          "name": "stdout",
          "text": [
            "[2, 3, 4, 5]\n"
          ]
        }
      ]
    },
    {
      "cell_type": "markdown",
      "source": [
        "**Filter**\n",
        "\n",
        "While a map function always creates a new list of the same size as the original, the ﬁlter function creates a potentially smaller list."
      ],
      "metadata": {
        "id": "jU_k8ulK-N2q"
      }
    },
    {
      "cell_type": "code",
      "source": [
        "def positive_num(n):\n",
        "  return n > 0;\n",
        "\n",
        "l = [-1, 0, 2, 3]\n",
        "l_new = list(filter(positive_num, l))\n",
        "\n",
        "print(l_new)"
      ],
      "metadata": {
        "colab": {
          "base_uri": "https://localhost:8080/"
        },
        "id": "qBg6oCBwlYl-",
        "outputId": "a71094e4-8c8b-4503-967a-f9b8be815995"
      },
      "execution_count": null,
      "outputs": [
        {
          "output_type": "stream",
          "name": "stdout",
          "text": [
            "[2, 3]\n"
          ]
        }
      ]
    },
    {
      "cell_type": "markdown",
      "source": [
        "**Lambda**\n",
        "\n",
        "Short function in the text to save effort. (No need to write entire function normally)"
      ],
      "metadata": {
        "id": "5hWVzQFdp_73"
      }
    },
    {
      "cell_type": "code",
      "source": [
        "l = [-1, 0, 2, 3]\n",
        "l_new = list(filter(lambda x: x > 0, l))\n",
        "print(l_new) # same results as previous one"
      ],
      "metadata": {
        "colab": {
          "base_uri": "https://localhost:8080/"
        },
        "id": "G2JEsu9S_LDA",
        "outputId": "8e68c0b3-d202-4f16-e369-ffcd8b51e8ed"
      },
      "execution_count": null,
      "outputs": [
        {
          "output_type": "stream",
          "name": "stdout",
          "text": [
            "[2, 3]\n"
          ]
        }
      ]
    },
    {
      "cell_type": "markdown",
      "source": [
        "**Reduce**\n",
        "\n",
        "At first step, **first two elements **of sequence are picked and the result is obtained.\n",
        "\n",
        "Next step is to apply the same function to the previously attained result and the number just succeeding the second element and the result is again stored.\n",
        "\n",
        "This process continues till no more elements are left in the container.\n",
        "\n",
        "Only a single value is returned given a list."
      ],
      "metadata": {
        "id": "2kE64-Xr-prX"
      }
    },
    {
      "cell_type": "code",
      "source": [
        "from functools import reduce\n",
        "l = [1, 10, 20, 3, -2, 0]\n",
        "result = reduce(lambda x,y : x+y, l)\n",
        "print(result) # sum of the list"
      ],
      "metadata": {
        "colab": {
          "base_uri": "https://localhost:8080/"
        },
        "id": "wwcUpjD5_p-p",
        "outputId": "f81712be-0366-4d20-f159-965bf2e7b4b1"
      },
      "execution_count": null,
      "outputs": [
        {
          "output_type": "stream",
          "name": "stdout",
          "text": [
            "32\n"
          ]
        }
      ]
    },
    {
      "cell_type": "markdown",
      "source": [
        "### **Data Manipulation & Processing (Tensorflow)** ###"
      ],
      "metadata": {
        "id": "OHJoR0A1Oebf"
      }
    },
    {
      "cell_type": "markdown",
      "source": [
        "##### ***Tensor Basics*** ######\n",
        "1. **What is Tensor?** \n",
        "- A tensor represents a (possibly n-dimensional) array of numerical values for storing and manipulating data\n",
        "- n = 1 ~ Vector; \n",
        "- n = 2 ~ Matrix; \n",
        "- n > 2 ~ Tensor.\n",
        "\n",
        "2. **Why Tensor** \n",
        "- Tensor class supports automatic differentiation.\n",
        "- Tensor leverages GPUs to accelerate numerical computation.\n",
        "\n",
        "3. **Coding**"
      ],
      "metadata": {
        "id": "lA5SKK-AxfJ_"
      }
    },
    {
      "cell_type": "code",
      "source": [
        "import tensorflow as tf"
      ],
      "metadata": {
        "id": "4bETwjYJz9bx"
      },
      "execution_count": null,
      "outputs": []
    },
    {
      "cell_type": "markdown",
      "source": [
        "- Creation/Manipulation"
      ],
      "metadata": {
        "id": "MepYmsmqz6Mv"
      }
    },
    {
      "cell_type": "code",
      "source": [
        "# create a vector of evenly spaced values, \n",
        "# starting at 0 (included) and ending at n (not included)\n",
        "x = tf.range(12, dtype=tf.float32)\n",
        "\n",
        "# zero tensor\n",
        "tf.zeros((2, 3, 4))\n",
        "\n",
        "# one tensor\n",
        "tf.ones((2, 3, 4))\n",
        "\n",
        "# Sampling\n",
        "# parameters of neural networks are often initialized randomly\n",
        "tf.random.normal(shape=[3, 4])\n",
        "# creates a tensor with elements drawn from\n",
        "# standard Gaussian (normal) distribution\n",
        "\n",
        "# construct from Python LIST\n",
        "tf.constant([[2, 1, 4, 3], [1, 2, 3, 4], [4, 3, 2, 1]])\n",
        "\n",
        "# change the shape of an existing tensor\n",
        "X = tf.reshape(x, (3, 4))\n",
        "# x.reshape(3, 4) == x.reshape(-1, 4) == x.reshape(3, -1)"
      ],
      "metadata": {
        "id": "8vD_M5wizu9Q"
      },
      "execution_count": null,
      "outputs": []
    },
    {
      "cell_type": "markdown",
      "source": [
        "- Size/Shape"
      ],
      "metadata": {
        "id": "HkF7oSsI0Djq"
      }
    },
    {
      "cell_type": "code",
      "source": [
        "# total number of elements in a tensor\n",
        "tf.size(x)\n",
        "\n",
        "# shape (the length along each axis)\n",
        "x.shape"
      ],
      "metadata": {
        "colab": {
          "base_uri": "https://localhost:8080/"
        },
        "id": "Td2CrY4Z0F5R",
        "outputId": "52bb005a-b30d-4f94-adc4-3bee9c49e6cf"
      },
      "execution_count": null,
      "outputs": [
        {
          "output_type": "execute_result",
          "data": {
            "text/plain": [
              "TensorShape([12])"
            ]
          },
          "metadata": {},
          "execution_count": 11
        }
      ]
    },
    {
      "cell_type": "markdown",
      "source": [
        "- Indexing/Slicing (access tensor elements)\n",
        "  - 1st element/list: [0]\n",
        "  - last element/list: [-1]\n",
        "  - certain element: [a,b]\n",
        "  - all elements along column: : (e.g [a:b,:])\n",
        "  - range of indices/lists: [a:b] (b not included)\n"
      ],
      "metadata": {
        "id": "bWweFw_GOmLQ"
      }
    },
    {
      "cell_type": "code",
      "source": [
        "X[-1]\n",
        "X[1:3]"
      ],
      "metadata": {
        "colab": {
          "base_uri": "https://localhost:8080/"
        },
        "id": "QgQC0EQ74cYo",
        "outputId": "83217ff7-5716-47a8-896f-9b0ad8920433"
      },
      "execution_count": null,
      "outputs": [
        {
          "output_type": "execute_result",
          "data": {
            "text/plain": [
              "<tf.Tensor: shape=(2, 4), dtype=float32, numpy=\n",
              "array([[ 4.,  5.,  6.,  7.],\n",
              "       [ 8.,  9., 10., 11.]], dtype=float32)>"
            ]
          },
          "metadata": {},
          "execution_count": 13
        }
      ]
    },
    {
      "cell_type": "markdown",
      "source": [
        "- Tensors in TensorFlow are immutable, and cannot be assigned to, but variables in TensorFlow are mutable containers of state that support assignments. "
      ],
      "metadata": {
        "id": "F1_XRdhQ8xKG"
      }
    },
    {
      "cell_type": "code",
      "source": [
        "# Create TensorFlow Variable\n",
        "X_var = tf.Variable(X)\n",
        "\n",
        "# Assign values\n",
        "X_var[1, 2].assign(9)\n",
        "X_var[1:3, :].assign(tf.ones(X_var[:2,:].shape, dtype=tf.float32) * 12)\n",
        "X_var"
      ],
      "metadata": {
        "colab": {
          "base_uri": "https://localhost:8080/"
        },
        "id": "n6lk69x09T4m",
        "outputId": "7dcd5951-6034-4a42-f726-1a9c1de2c10b"
      },
      "execution_count": null,
      "outputs": [
        {
          "output_type": "execute_result",
          "data": {
            "text/plain": [
              "<tf.Variable 'Variable:0' shape=(3, 4) dtype=float32, numpy=\n",
              "array([[ 0.,  1.,  2.,  3.],\n",
              "       [12., 12., 12., 12.],\n",
              "       [12., 12., 12., 12.]], dtype=float32)>"
            ]
          },
          "metadata": {},
          "execution_count": 15
        }
      ]
    },
    {
      "cell_type": "markdown",
      "source": [
        "4. **Operation**\n",
        "- Elementwise Operations\n",
        "```\n",
        "addition (+), subtraction (-), multiplication (*), division (/), and exponentiation (**)\n",
        "```\n",
        "- Linear Algebra Operations\n",
        "```\n",
        "Check Next Part\n",
        "```\n",
        "- Concatenate\n",
        "```\n",
        "# Along Rows (Vertical)\n",
        "tf.concat([X, Y], axis=0)\n",
        "# Along Columns (Horizontal)\n",
        "tf.concat([X, Y], axis=1)\n",
        "```\n",
        "- Summation\n",
        "```\n",
        "tf.reduce_sum(X)\n",
        "```"
      ],
      "metadata": {
        "id": "1NK_bGU0A3w_"
      }
    },
    {
      "cell_type": "markdown",
      "source": [
        "5. **Broadcasting Mechanism**\n",
        "\n",
        "Under certain conditions, even when shapes differ, we can still perform elementwise binary operations by invoking the broadcasting mechanism.\n",
        "\n",
        "STEP I: expand one or both arrays by copying elements along axes with length 1 so that after this transformation, the two tensors have the same shape.\n",
        "\n",
        "STEP II: perform an elementwise operation on the resulting arrays.\n",
        "\n",
        "6. **Save memory**\n",
        "\n",
        "Running operations can cause new memory to be allocated to host results."
      ],
      "metadata": {
        "id": "SrDkh__BA4O5"
      }
    },
    {
      "cell_type": "code",
      "source": [
        "# save memory\n",
        "# origin case:\n",
        "Y = Y + X\n",
        "\n",
        "# save memory case:\n",
        "Z.assign(X + Y)"
      ],
      "metadata": {
        "id": "Z01HY5knDSwm"
      },
      "execution_count": null,
      "outputs": []
    },
    {
      "cell_type": "markdown",
      "source": [
        "7. **Coversion to other objects**\n",
        "\n",
        "- NumPy tensor (ndarray)\n",
        "```\n",
        "np_X = X.numpy()\n",
        "```\n",
        "\n",
        "- Size-1 to Scalar\n",
        "```\n",
        "a = tf.constant([3.5]).numpy()\n",
        "a.item(), float(a), int(a)\n",
        "```\n",
        "\n"
      ],
      "metadata": {
        "id": "pPL_2k7ZDihI"
      }
    },
    {
      "cell_type": "markdown",
      "source": [
        "### Numerical Linear Algebra ###"
      ],
      "metadata": {
        "id": "4NvGssvmCZ9z"
      }
    },
    {
      "cell_type": "markdown",
      "source": [
        "https://www.tensorflow.org/api_docs/python/tf/linalg\n",
        "\n",
        "https://numpy.org/doc/stable/reference/routines.linalg.html"
      ],
      "metadata": {
        "id": "nRDJqfjBP4ht"
      }
    }
  ]
}