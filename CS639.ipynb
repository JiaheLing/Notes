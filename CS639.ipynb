{
  "nbformat": 4,
  "nbformat_minor": 0,
  "metadata": {
    "colab": {
      "provenance": [],
      "collapsed_sections": [
        "SFlALTKqRyRr",
        "nSTMvShtSmdp",
        "yZ8je1jYSttK",
        "NOml2A-OWI30",
        "tLRZ1Ee_rbL5",
        "3KyPmmsiri2O",
        "EfdUoPZjRW7E"
      ],
      "authorship_tag": "ABX9TyMxvNybpvRiQuJqj2fPUHqu",
      "include_colab_link": true
    },
    "kernelspec": {
      "name": "python3",
      "display_name": "Python 3"
    },
    "language_info": {
      "name": "python"
    }
  },
  "cells": [
    {
      "cell_type": "markdown",
      "metadata": {
        "id": "view-in-github",
        "colab_type": "text"
      },
      "source": [
        "<a href=\"https://colab.research.google.com/github/JiaheLing/Notes/blob/main/CS639.ipynb\" target=\"_parent\"><img src=\"https://colab.research.google.com/assets/colab-badge.svg\" alt=\"Open In Colab\"/></a>"
      ]
    },
    {
      "cell_type": "markdown",
      "source": [
        "### **Matlab Guide**"
      ],
      "metadata": {
        "id": "weLFFaIqRu3K"
      }
    },
    {
      "cell_type": "markdown",
      "source": [
        "##### **Scripts & Help**\n",
        "\n",
        "Suppose the script `hello.m` already exists. To run the script, type:\n",
        "```\n",
        ">> hello\n",
        "```\n",
        "---\n",
        "\n",
        "To get help type `help` or `help xxx`; If you don't know the exact name of the topic or command you are looking for, type `lookfor xxx`\n",
        "\n",
        "---\n",
        "\n",
        "When using the command line, a `;` at the end means matlab will **not** display the result. If `;` is omitted then matlab will display result.\n",
        "\n",
        "---\n",
        "\n",
        "The symbol `%` is used in front of a comment.\n",
        "\n"
      ],
      "metadata": {
        "id": "-JJihR_4IZQN"
      }
    },
    {
      "cell_type": "markdown",
      "source": [
        "##### **Numerical Calculatio (Scalar)**"
      ],
      "metadata": {
        "id": "SFlALTKqRyRr"
      }
    },
    {
      "cell_type": "markdown",
      "source": [
        "```\n",
        ">> 1 + 1\n",
        ">> 2 * 3\n",
        ">> log(6)\n",
        "```"
      ],
      "metadata": {
        "id": "XEgKwf5NR3Mu"
      }
    },
    {
      "cell_type": "markdown",
      "source": [
        "##### **Vectors**"
      ],
      "metadata": {
        "id": "nSTMvShtSmdp"
      }
    },
    {
      "cell_type": "markdown",
      "source": [
        "1. Create Vector \n",
        "```\n",
        "% Row Vector\n",
        ">> [1 2 3]\n",
        "% Column Vector\n",
        ">> [1; 2; 3]\n",
        "```\n",
        "\n",
        "2. Transpose\n",
        "```\n",
        ">> a = [1; 2; 3]\n",
        ">> a' \n",
        "% gives \"a = [1 2 3]\"\n",
        "```\n",
        "\n",
        "3. Size (gives row x col)\n",
        "```\n",
        ">> a = [1 2 3]\n",
        ">> size(a)\n",
        "% gives \"1   3\"\n",
        "```\n",
        "\n",
        "4. Sequence (Range)\n",
        "```\n",
        ">> 3:-0.5:1\n",
        "% 3.0000    2.5000    2.0000    1.5000    1.0000\n",
        "```\n",
        "\n",
        "\n",
        "\n",
        "\n",
        "\n"
      ],
      "metadata": {
        "id": "5LqMlCoBSqcz"
      }
    },
    {
      "cell_type": "markdown",
      "source": [
        "##### **Matrix**"
      ],
      "metadata": {
        "id": "yZ8je1jYSttK"
      }
    },
    {
      "cell_type": "markdown",
      "source": [
        "1. Create 2-D Matrix\n",
        "```\n",
        "a = [1 2 3 4; 5 6 7 8; 9 10 11 12]\n",
        "```\n",
        "\n",
        "2. Transpose\n",
        "```\n",
        "a'\n",
        "```\n",
        "\n",
        "3. Size\n",
        "```\n",
        "% return row size\n",
        ">> size(a, 1)\n",
        "% col size\n",
        ">> size(a, 2)\n",
        "% (m x n)\n",
        ">> size(a)\n",
        "```\n",
        "\n",
        "4. Access Element (Indexing)\n",
        "```\n",
        "% access element at row=2, col=2\n",
        ">> a(2,2)\n",
        "% access all elements at row=2 and row length is 4\n",
        ">> a(2, 1:4)\n",
        ">> a(2, 1:end)\n",
        ">> a(2,:)\n",
        "% access all elements in col = 1\n",
        ">> a(:,1)\n",
        "% acess the 2nd to 4th element at row=2\n",
        ">> a(2, 2:4)\n",
        "% rectangular selection\n",
        ">> a([1 3], [2 4]\n",
        ">> a(2:end, 3:end)\n",
        "```"
      ],
      "metadata": {
        "id": "qUjtl_WYrK_b"
      }
    },
    {
      "cell_type": "markdown",
      "source": [
        "##### **Special Matrix/Vector**"
      ],
      "metadata": {
        "id": "NOml2A-OWI30"
      }
    },
    {
      "cell_type": "markdown",
      "source": [
        "1. Ones\n",
        "```\n",
        "ones(nrow, mcol)\n",
        "```\n",
        "2. Zeros\n",
        "```\n",
        "zeros(nrow, mcol)\n",
        "```\n",
        "3. Indentity Matrix\n",
        "```\n",
        "eye(n)\n",
        "```\n",
        "4. Randoms\n",
        "```\n",
        "rand(nrow, mcol)\n",
        "% elements are number in (0,1)\n",
        "```"
      ],
      "metadata": {
        "id": "Tr5Z5jp9rThz"
      }
    },
    {
      "cell_type": "markdown",
      "source": [
        "##### **Math Operations**"
      ],
      "metadata": {
        "id": "tLRZ1Ee_rbL5"
      }
    },
    {
      "cell_type": "markdown",
      "source": [
        "```\n",
        ">> a = [1 2 3 4]\n",
        ">> b = [2 4 6 8]\n",
        "```\n",
        "\n",
        "1. _Addition/Subtraction_\n",
        "```\n",
        ">> a + 1\n",
        ">> a + b\n",
        ">> a - b\n",
        "```\n",
        "\n",
        "2. _Multiplication/Division_\n",
        "- with scalar\n",
        "```\n",
        ">> 2 * a\n",
        ">> b / 4\n",
        "```\n",
        "- between matrix/vector\n",
        "  - Element-wise (.)\n",
        "  ```\n",
        "  >> a .* b\n",
        "  >> a ./ b\n",
        "  ```\n",
        "  - Matrix Product\n",
        "  ```\n",
        "  >> a * b\n",
        "  ```\n",
        "\n",
        "3. _Other Operations_\n",
        "```\n",
        "% Element-wise Power\n",
        ">> a .^ b\n",
        "% log\n",
        ">> log( [1 2 3 4] )\n",
        "% Rounding\n",
        ">> round( [1.5 2; 2.2 3.1] )\n",
        "```\n",
        "\n",
        "*Element-wise: done \"element by element\" ($a_1$ by $b_1$, $a_2$ by $b_2$, etc.)\n",
        "\n"
      ],
      "metadata": {
        "id": "_vUH1RK-W_HT"
      }
    },
    {
      "cell_type": "markdown",
      "source": [
        "##### **Vector Operations**"
      ],
      "metadata": {
        "id": "3KyPmmsiri2O"
      }
    },
    {
      "cell_type": "markdown",
      "source": [
        "*These operations (sum, mean, var, std, max, min) could be done either on whole matrix or on a certain dimension.\n",
        "\n",
        "```\n",
        "% Sum\n",
        ">> sum(m)\n",
        "\n",
        "% Mean\n",
        ">> mean(m)\n",
        "\n",
        "% Variance\n",
        ">> var()\n",
        "\n",
        "% Standard Deviation\n",
        ">> std()\n",
        "\n",
        "% Maximum\n",
        ">> max()\n",
        "\n",
        "% Minimum\n",
        ">> min()\n",
        "\n",
        "% Matrix to Column Vector\n",
        ">> a(:)\n",
        "```\n",
        "\n"
      ],
      "metadata": {
        "id": "_otIsRbPavbE"
      }
    },
    {
      "cell_type": "markdown",
      "source": [
        "##### **Logic Operations**"
      ],
      "metadata": {
        "id": "EfdUoPZjRW7E"
      }
    },
    {
      "cell_type": "markdown",
      "source": [
        "```\n",
        "u = [3 5 -2 5 -1 0]\n",
        "```\n",
        "\n",
        "1. find()\n",
        "\n",
        "```\n",
        ">> find(u > 0)\n",
        "-> 1    2    4\n",
        "```\n",
        "\n",
        "2. Logic Array\n",
        "\n",
        "```\n",
        ">> v > 0\n",
        "-> 1 1 0 1 0 0\n",
        "```"
      ],
      "metadata": {
        "id": "0safYBDTavuR"
      }
    },
    {
      "cell_type": "markdown",
      "source": [
        "##### **Save & Load Variables**"
      ],
      "metadata": {
        "id": "61wzg3Jd0xMb"
      }
    },
    {
      "cell_type": "markdown",
      "source": [
        "1. Save Variables\n",
        "- `Workspace` -> double click -> `Save`/`Save as`\n",
        "- `>> save variable_name`\n",
        "\n",
        "2. Load Variables\n",
        "- `>> load variable.file`\n",
        "\n",
        "3. Clear Workspace\n",
        "- `>> clear all`\n"
      ],
      "metadata": {
        "id": "A3honJNpzW9g"
      }
    },
    {
      "cell_type": "markdown",
      "source": [
        "##### **Control Statements**"
      ],
      "metadata": {
        "id": "ZFylQTjy1n2R"
      }
    },
    {
      "cell_type": "markdown",
      "source": [
        "1. If-Else\n",
        "```\n",
        "if r == c\n",
        "     ---\n",
        "elseif abs(r-c) == 1\n",
        "     ---\n",
        "else\n",
        "     ---\n",
        "end\n",
        "```\n",
        "\n",
        "2. For Loop\n",
        "```\n",
        "for i = 1:n\n",
        "\t  ---\n",
        "end\n",
        "```\n",
        "\n",
        "3. Function\n",
        "- https://www.mathworks.com/help/matlab/ref/function.html#d123e488529\n",
        "- Functions in matlab are written in m-files. (e.g `func.m`)\n",
        "- Local functions are only available to other functions within the same file\n",
        "- General Form\n",
        "```\n",
        "function [y1,...,yN] = func_name(x1,...,xM)\n",
        "    ---\n",
        "end\n",
        "```\n",
        "- One Ouput\n",
        "```\n",
        "function ave = average(x)\n",
        "    ave = sum(x(:))/numel(x); \n",
        "end\n",
        "```\n",
        "- Multiple Outputs\n",
        "```\n",
        "function [m,s] = stat(x)\n",
        "    n = length(x);\n",
        "    m = sum(x)/n;\n",
        "    s = sqrt(sum((x-m).^2/n));\n",
        "end\n",
        "```"
      ],
      "metadata": {
        "id": "oi7HLcSW1txk"
      }
    },
    {
      "cell_type": "markdown",
      "source": [
        "##### **Input & Output**"
      ],
      "metadata": {
        "id": "d5Iok4yD39eZ"
      }
    },
    {
      "cell_type": "markdown",
      "source": [
        "1. _Printing_\n",
        "- fprintf()\n",
        "\n",
        "```\n",
        "% 1: standard output\n",
        "% 2: standard error\n",
        ">> fprintf(1, 'A', 'B', \"C\");\n",
        "-> ABC\n",
        "```\n",
        "\n",
        "- disp()\n",
        "\n",
        "```\n",
        ">> disp(\"hello world\");\n",
        "-> hello world\n",
        "\n",
        ">> disp(a)\n",
        "-> a = 1 2 3 4 5\n",
        "```\n",
        "\n",
        "2. _Read Image_\n",
        "\n",
        "```\n",
        "fname = \"cameraman.tif\";\n",
        "img = imread(fname);\n",
        "\n",
        "% img variable is a matrix with numbers\n",
        "```\n",
        "\n",
        "3. _Save Image_\n",
        "\n",
        "```\n",
        "imwrite(img_var, \"name.png\");\n",
        "```"
      ],
      "metadata": {
        "id": "dVHQhwwS4bBj"
      }
    },
    {
      "cell_type": "markdown",
      "source": [
        "### **Image Processing**"
      ],
      "metadata": {
        "id": "Ik8WeD3Z6cK-"
      }
    },
    {
      "cell_type": "markdown",
      "source": [
        "##### **Display Image**"
      ],
      "metadata": {
        "id": "KwTRMaOF6h2h"
      }
    },
    {
      "cell_type": "markdown",
      "source": [
        "```\n",
        "% display an image\n",
        ">> figure; % creates a new UI window\n",
        ">> imshow(img); % display image in the UI window\n",
        ">> imshow([img1, img2])\n",
        ">> colorbar; % show range of color values visually\n",
        ">> clf % clear figures\n",
        ">> close all; % close figures\n",
        "```"
      ],
      "metadata": {
        "id": "pya-Gsu46m2Q"
      }
    },
    {
      "cell_type": "markdown",
      "source": [
        "##### **Evaluate Values of Image**"
      ],
      "metadata": {
        "id": "rWXLzfMf7nsL"
      }
    },
    {
      "cell_type": "markdown",
      "source": [
        "`img = imread(fname);`\n",
        "\n",
        "```\n",
        "% intensity\n",
        ">> mean(img(:)) \n",
        ">> max(img(:))\n",
        ">> min(img(:))\n",
        "\n",
        "% size\n",
        ">> size(img)\n",
        ">> size(img, 1) % height\n",
        ">> size(img, 2) % width\n",
        "```"
      ],
      "metadata": {
        "id": "xzSCuCAY7r0a"
      }
    },
    {
      "cell_type": "markdown",
      "source": [
        "##### **Work on Image (B&W)**"
      ],
      "metadata": {
        "id": "rPV-Of5_9S-k"
      }
    },
    {
      "cell_type": "markdown",
      "source": [
        "1. \"Scale\" uint8 image to [0, 1]\n",
        "\n",
        "> Why? If not convert to floating point, operation like `\\` would lead to error.\n",
        "\n",
        "```\n",
        ">> img_scaled_v3 = double(img) / 255.0; \n",
        ">> img_scaled_v4 = im2double(img);\n",
        "\n",
        "% Loop can also solve this problem, but is much slower\n",
        "```\n",
        "\n",
        "2. Copy Image\n",
        "\n",
        "```\n",
        "% direct copy\n",
        "copy_img = img;\n",
        "% copy a part\n",
        "crop = img(17:192, 33:224);\n",
        "```\n",
        "\n",
        "3. Crop (Destroy) Image\n",
        "\n",
        "```\n",
        ">> img(57:103, 37:95) = 0; % a black rectangle will appear on the image\n",
        "% value 0 could change to other values which suggest a different color\n",
        ">> img(a:b, c:d) = 255*rand(6,200); %mosaic\n",
        "```\n",
        "\n",
        "- Advanced Croping (Merging Image)\n",
        "\n",
        "```\n",
        "hw1\n",
        "```\n",
        "\n",
        "4. Inversion\n",
        "\n",
        "```\n",
        "inverted_img = 1 - img\n",
        "```\n",
        "\n",
        "5. Brightness/Contrast\n",
        "\n",
        "```\n",
        ">> img_scaled = im2double(img); % scale image to [0,1]\n",
        ">> bright_img = min(1, img_scaled+0.2); %min(1, ...) is to make sure the value in range [0,1]\n",
        ">> high_contrast = min(1, img_scaled*1.5);\n",
        "```\n",
        "\n",
        "6. Hadamard product (Merge two Image)\n",
        "\n",
        "```\n",
        "product = img_1 .* img_2;\n",
        "```\n",
        "\n",
        "7. Resize\n",
        "\n",
        "```\n",
        "nrows = a;\n",
        "ncols = b;\n",
        "img = imresize(img, [rnows, ncols])\n",
        "```\n",
        "\n",
        "8. Scaling\n",
        "\n",
        "```\n",
        "hw1\n",
        "```\n",
        "\n",
        "9. Subploting (plot 3 figures together in one figure window)\n",
        "\n",
        "```\n",
        "subplot(1,3,1); % Place the next image in subfigure 1 in the 1,3 grid\n",
        "imshow(img1); title('img1'); % Show image, and put title\n",
        "\n",
        "subplot(1,3,2);  % Place the next image in subfigure 2 in the 1,3 grid\n",
        "imshow(img2); title('img2');\n",
        "\n",
        "subplot(1,3,3); % Place the next image in subfigure 3 in the 1,3 grid\n",
        "imshow(img3); title('img3');\n",
        "```"
      ],
      "metadata": {
        "id": "uU1qymW89WbZ"
      }
    },
    {
      "cell_type": "markdown",
      "source": [
        "##### **Work on Image (Color)**"
      ],
      "metadata": {
        "id": "iPnRi_xsK7j5"
      }
    },
    {
      "cell_type": "markdown",
      "source": [
        "- It is known that Color Image has the third dimension which is the `channel`. (`channels = size(img, 3)`) [Consider like 3 color layers form a colorful image]\n",
        "\n",
        "1. Crop Image (Channel Based)\n",
        "\n",
        "```\n",
        "r_crop = san_fran(2001:2333, 1574:1892, 1);   % red channel only\n",
        "g_crop = san_fran(2001:2333, 1574:1892, 2);   % green channel only\n",
        "b_crop = san_fran(2001:2333, 1574:1892, 3);   % blue channel only\n",
        "```\n",
        "\n",
        "2. Invert Image\n",
        "\n",
        "```\n",
        "inverted = 1 - img;\n",
        "```\n",
        "\n",
        "3. Merge Image\n",
        "```\n",
        "% easiest solution\n",
        "elwise_product_1 = san_fran .* foosball;\n",
        "% color channel solution\n",
        "r_out = san_fran(:,:,1) .* foosball(:,:,1);\n",
        "g_out = san_fran(:,:,2) .* foosball(:,:,2);\n",
        "b_out = san_fran(:,:,3) .* foosball(:,:,3);\n",
        "product = cat(3, r_out, g_out, b_out); % merge layers into one image\n",
        "```\n",
        "\n",
        "4. Check Image is Same\n",
        "\n",
        "```\n",
        "assert(sum(abs(img_1 - img_2), \"all\") == 0);\n",
        "```\n",
        "\n",
        "5. Grey Scaled Image\n",
        "\n",
        "```\n",
        "img = rgb2gray(img);\n",
        "```"
      ],
      "metadata": {
        "id": "v6iEpexVK-i0"
      }
    },
    {
      "cell_type": "markdown",
      "source": [
        "##### **Image Gradient**"
      ],
      "metadata": {
        "id": "OefY42TouxnT"
      }
    },
    {
      "cell_type": "markdown",
      "source": [
        "- An image gradient is a **directional change** in the intensity or color of an image\n",
        "\n",
        "- Image gradients are a basic building block of more advanced CV algorithms such as edge and boundary detection, feature extraction, or measuring optical flow (i.e. motion from one image frame to another).\n",
        "\n",
        "- There are many ways to take the image gradient that we will in this class. Probably the simplest is to just take the difference of adjacent pixels.\n",
        "\n",
        "---\n",
        "\n",
        "- Let f(y,x) be the image, where y = rows, x = cols: \n",
        "- Gradient in X direction = $\\frac{df}{dx}=f(y,x+1) - f(y,x)$\n",
        "- Gradient in Y direction = $\\frac{df}{dy}=f(y+1,x) - f(y,x)$\n",
        "- Gradient magnitude = $|\\frac{df}{dx}| = \\sqrt{\\frac{df}{dx^2}+\\frac{df}{dy^2}}$\n",
        "\n",
        "```\n",
        "grad_x = zeros(size(img));\n",
        "grad_y = zeros(size(img));\n",
        "grad_magnitude = zeros(size(img));\n",
        "\n",
        "% Loop Implementation (Slow)\n",
        "for y = 1:n_rows-1\n",
        "    for x = 1:n_cols-1\n",
        "        grad_y(y,x) = img(y+1,x) - img(y,x);\n",
        "        grad_x(y,x) = img(y,x+1) - img(y,x);\n",
        "        grad_magnitude(y,x) = sqrt( (grad_x(y,x)^2) + (grad_y(y,x)^2) );       \n",
        "    end\n",
        "end\n",
        "\n",
        "% Matlab Function Implementation\n",
        "grad_y(1:n_rows-1, :) = img(2:end, :) - img(1:end-1, :);\n",
        "grad_x(:, 1:n_cols-1) = img(:, 2:end) - img(:, 1:end-1);\n",
        "grad_magnitude = sqrt( (grad_x.^2) + (grad_y.^2) );\n",
        "```\n",
        "\n",
        "---\n",
        "\n",
        "\n",
        "\n"
      ],
      "metadata": {
        "id": "YitISmpxpP2o"
      }
    }
  ]
}